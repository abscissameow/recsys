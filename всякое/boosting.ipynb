{
  "cells": [
    {
      "cell_type": "code",
      "execution_count": null,
      "metadata": {
        "id": "xWX0ETD84DoN"
      },
      "outputs": [],
      "source": [
        "pip install pytorch_lightning"
      ]
    },
    {
      "cell_type": "code",
      "execution_count": 2,
      "metadata": {
        "id": "IwYs6td1wi8I"
      },
      "outputs": [],
      "source": [
        "import pandas as pd\n",
        "import numpy as np\n",
        "from tqdm.notebook import tqdm\n",
        "\n",
        "import torch\n",
        "import torch.nn as nn\n",
        "from torch.utils.data import Dataset, DataLoader\n",
        "import pytorch_lightning as pl\n",
        "\n",
        "np.random.seed(11)"
      ]
    },
    {
      "cell_type": "markdown",
      "metadata": {
        "id": "cS2fVPev0M8G"
      },
      "source": [
        "# Данные"
      ]
    },
    {
      "cell_type": "markdown",
      "metadata": {
        "id": "jZiGDOL50_MH"
      },
      "source": [
        "Беру информацию об оценках фильмов пользователями ratings.csv из полного датасета MovieLens"
      ]
    },
    {
      "cell_type": "code",
      "execution_count": 77,
      "metadata": {
        "colab": {
          "base_uri": "https://localhost:8080/",
          "height": 206
        },
        "id": "8zxUq2uUwpfG",
        "outputId": "dc5e450e-353a-4773-d5e6-e9b73b561d08"
      },
      "outputs": [
        {
          "data": {
            "text/html": [
              "\n",
              "  <div id=\"df-2e670baa-b699-4e51-a313-e053dcd2e242\">\n",
              "    <div class=\"colab-df-container\">\n",
              "      <div>\n",
              "<style scoped>\n",
              "    .dataframe tbody tr th:only-of-type {\n",
              "        vertical-align: middle;\n",
              "    }\n",
              "\n",
              "    .dataframe tbody tr th {\n",
              "        vertical-align: top;\n",
              "    }\n",
              "\n",
              "    .dataframe thead th {\n",
              "        text-align: right;\n",
              "    }\n",
              "</style>\n",
              "<table border=\"1\" class=\"dataframe\">\n",
              "  <thead>\n",
              "    <tr style=\"text-align: right;\">\n",
              "      <th></th>\n",
              "      <th>userId</th>\n",
              "      <th>movieId</th>\n",
              "      <th>rating</th>\n",
              "      <th>timestamp</th>\n",
              "    </tr>\n",
              "  </thead>\n",
              "  <tbody>\n",
              "    <tr>\n",
              "      <th>0</th>\n",
              "      <td>1</td>\n",
              "      <td>307</td>\n",
              "      <td>3.5</td>\n",
              "      <td>1256677221</td>\n",
              "    </tr>\n",
              "    <tr>\n",
              "      <th>1</th>\n",
              "      <td>1</td>\n",
              "      <td>481</td>\n",
              "      <td>3.5</td>\n",
              "      <td>1256677456</td>\n",
              "    </tr>\n",
              "    <tr>\n",
              "      <th>2</th>\n",
              "      <td>1</td>\n",
              "      <td>1091</td>\n",
              "      <td>1.5</td>\n",
              "      <td>1256677471</td>\n",
              "    </tr>\n",
              "    <tr>\n",
              "      <th>3</th>\n",
              "      <td>1</td>\n",
              "      <td>1257</td>\n",
              "      <td>4.5</td>\n",
              "      <td>1256677460</td>\n",
              "    </tr>\n",
              "    <tr>\n",
              "      <th>4</th>\n",
              "      <td>1</td>\n",
              "      <td>1449</td>\n",
              "      <td>4.5</td>\n",
              "      <td>1256677264</td>\n",
              "    </tr>\n",
              "  </tbody>\n",
              "</table>\n",
              "</div>\n",
              "      <button class=\"colab-df-convert\" onclick=\"convertToInteractive('df-2e670baa-b699-4e51-a313-e053dcd2e242')\"\n",
              "              title=\"Convert this dataframe to an interactive table.\"\n",
              "              style=\"display:none;\">\n",
              "        \n",
              "  <svg xmlns=\"http://www.w3.org/2000/svg\" height=\"24px\"viewBox=\"0 0 24 24\"\n",
              "       width=\"24px\">\n",
              "    <path d=\"M0 0h24v24H0V0z\" fill=\"none\"/>\n",
              "    <path d=\"M18.56 5.44l.94 2.06.94-2.06 2.06-.94-2.06-.94-.94-2.06-.94 2.06-2.06.94zm-11 1L8.5 8.5l.94-2.06 2.06-.94-2.06-.94L8.5 2.5l-.94 2.06-2.06.94zm10 10l.94 2.06.94-2.06 2.06-.94-2.06-.94-.94-2.06-.94 2.06-2.06.94z\"/><path d=\"M17.41 7.96l-1.37-1.37c-.4-.4-.92-.59-1.43-.59-.52 0-1.04.2-1.43.59L10.3 9.45l-7.72 7.72c-.78.78-.78 2.05 0 2.83L4 21.41c.39.39.9.59 1.41.59.51 0 1.02-.2 1.41-.59l7.78-7.78 2.81-2.81c.8-.78.8-2.07 0-2.86zM5.41 20L4 18.59l7.72-7.72 1.47 1.35L5.41 20z\"/>\n",
              "  </svg>\n",
              "      </button>\n",
              "      \n",
              "  <style>\n",
              "    .colab-df-container {\n",
              "      display:flex;\n",
              "      flex-wrap:wrap;\n",
              "      gap: 12px;\n",
              "    }\n",
              "\n",
              "    .colab-df-convert {\n",
              "      background-color: #E8F0FE;\n",
              "      border: none;\n",
              "      border-radius: 50%;\n",
              "      cursor: pointer;\n",
              "      display: none;\n",
              "      fill: #1967D2;\n",
              "      height: 32px;\n",
              "      padding: 0 0 0 0;\n",
              "      width: 32px;\n",
              "    }\n",
              "\n",
              "    .colab-df-convert:hover {\n",
              "      background-color: #E2EBFA;\n",
              "      box-shadow: 0px 1px 2px rgba(60, 64, 67, 0.3), 0px 1px 3px 1px rgba(60, 64, 67, 0.15);\n",
              "      fill: #174EA6;\n",
              "    }\n",
              "\n",
              "    [theme=dark] .colab-df-convert {\n",
              "      background-color: #3B4455;\n",
              "      fill: #D2E3FC;\n",
              "    }\n",
              "\n",
              "    [theme=dark] .colab-df-convert:hover {\n",
              "      background-color: #434B5C;\n",
              "      box-shadow: 0px 1px 3px 1px rgba(0, 0, 0, 0.15);\n",
              "      filter: drop-shadow(0px 1px 2px rgba(0, 0, 0, 0.3));\n",
              "      fill: #FFFFFF;\n",
              "    }\n",
              "  </style>\n",
              "\n",
              "      <script>\n",
              "        const buttonEl =\n",
              "          document.querySelector('#df-2e670baa-b699-4e51-a313-e053dcd2e242 button.colab-df-convert');\n",
              "        buttonEl.style.display =\n",
              "          google.colab.kernel.accessAllowed ? 'block' : 'none';\n",
              "\n",
              "        async function convertToInteractive(key) {\n",
              "          const element = document.querySelector('#df-2e670baa-b699-4e51-a313-e053dcd2e242');\n",
              "          const dataTable =\n",
              "            await google.colab.kernel.invokeFunction('convertToInteractive',\n",
              "                                                     [key], {});\n",
              "          if (!dataTable) return;\n",
              "\n",
              "          const docLinkHtml = 'Like what you see? Visit the ' +\n",
              "            '<a target=\"_blank\" href=https://colab.research.google.com/notebooks/data_table.ipynb>data table notebook</a>'\n",
              "            + ' to learn more about interactive tables.';\n",
              "          element.innerHTML = '';\n",
              "          dataTable['output_type'] = 'display_data';\n",
              "          await google.colab.output.renderOutput(dataTable, element);\n",
              "          const docLink = document.createElement('div');\n",
              "          docLink.innerHTML = docLinkHtml;\n",
              "          element.appendChild(docLink);\n",
              "        }\n",
              "      </script>\n",
              "    </div>\n",
              "  </div>\n",
              "  "
            ],
            "text/plain": [
              "   userId  movieId  rating   timestamp\n",
              "0       1      307     3.5  1256677221\n",
              "1       1      481     3.5  1256677456\n",
              "2       1     1091     1.5  1256677471\n",
              "3       1     1257     4.5  1256677460\n",
              "4       1     1449     4.5  1256677264"
            ]
          },
          "execution_count": 77,
          "metadata": {},
          "output_type": "execute_result"
        }
      ],
      "source": [
        "ratings = pd.read_csv('newratings.csv', parse_dates=['timestamp'])\n",
        "ratings = ratings.iloc[:-1]\n",
        "ratings['movieId'] = ratings['movieId'].apply(int)\n",
        "ratings['userId']  = ratings['userId'].apply(int)\n",
        "ratings.head()"
      ]
    },
    {
      "cell_type": "markdown",
      "metadata": {
        "id": "iouSz8IH0Znv"
      },
      "source": [
        "Возьму только 7000 случайных уникальных пользователей."
      ]
    },
    {
      "cell_type": "code",
      "execution_count": 78,
      "metadata": {
        "id": "1VTXkdF3XwA0"
      },
      "outputs": [],
      "source": [
        "random_users = ratings['userId'].unique()[:7000]\n",
        "ratings = ratings.loc[ratings['userId'].isin(random_users)]"
      ]
    },
    {
      "cell_type": "markdown",
      "metadata": {
        "id": "1yFf8uDCAx6Y"
      },
      "source": [
        "Для каждого пользователя в валидационную выборку беру его самую последнюю оценку, а все остальные оценки этого пользователя используем в обучающей выборке. Это позволит избежать заглядывания в будущее. Я не хочу случайно  разбивать данные в рекомендательной системе, так как порядок оценок пользователя важен! Он отражает текущие предпочтения пользователя и изменение интересов  со временем. \n"
      ]
    },
    {
      "cell_type": "code",
      "execution_count": 80,
      "metadata": {
        "id": "RQEXpKSxy2kP"
      },
      "outputs": [],
      "source": [
        "ratings['rank_latest'] = ratings.groupby(['userId'])['timestamp'] \\\n",
        "                                .rank(method='first', ascending=False)\n",
        "\n",
        "train_ratings = ratings[ratings['rank_latest'] != 1]\n",
        "test_ratings = ratings[ratings['rank_latest'] == 1]\n",
        "\n",
        "train_ratings = train_ratings[['userId', 'movieId', 'rating']]\n",
        "test_ratings = test_ratings[['userId', 'movieId', 'rating']]"
      ]
    },
    {
      "cell_type": "markdown",
      "metadata": {
        "id": "1rQo67142OZP"
      },
      "source": [
        "# Построение модели"
      ]
    },
    {
      "cell_type": "code",
      "execution_count": 82,
      "metadata": {
        "id": "zTxoGXg2zGUL"
      },
      "outputs": [],
      "source": [
        "class DataHolder(Dataset):\n",
        "   \n",
        "    def __init__(self, ratings, all_movies):\n",
        "        self.users, self.movies, self.labels = self.get_dataset(ratings, all_movies)\n",
        "\n",
        "    def get_dataset(self, ratings, all_movies):\n",
        "        users, movies, labels = [], [], []\n",
        "        user_movie_set = set(zip(ratings['userId'], ratings['movieId']))\n",
        "\n",
        "        num_negatives = 3\n",
        "        for u, i in user_movie_set:\n",
        "            users.append(u)\n",
        "            movies.append(i)\n",
        "            labels.append(1)\n",
        "            for _ in range(num_negatives):\n",
        "                negative_movie = np.random.choice(all_movies)\n",
        "                while (u, negative_movie) in user_movie_set:\n",
        "                    negative_movie = np.random.choice(all_movies)\n",
        "                users.append(u)\n",
        "                movies.append(negative_movie)\n",
        "                labels.append(0)\n",
        "\n",
        "        return torch.tensor(users), torch.tensor(movies), torch.tensor(labels)\n",
        "\n",
        "    def __len__(self):\n",
        "        return len(self.users)\n",
        "  \n",
        "    def __getitem__(self, idx):\n",
        "        return self.users[idx], self.movies[idx], self.labels[idx]"
      ]
    },
    {
      "cell_type": "code",
      "execution_count": 83,
      "metadata": {
        "id": "2AiT3NGRzU8w"
      },
      "outputs": [],
      "source": [
        "class CollaborativeFiltering(pl.LightningModule):\n",
        "  \n",
        "    def __init__(self, num_users, num_movies, ratings, all_movies):\n",
        "        super().__init__()\n",
        "        self.user_embedding = nn.Embedding(num_embeddings=num_users, embedding_dim=8)\n",
        "        self.item_embedding = nn.Embedding(num_embeddings=num_movies, embedding_dim=8)\n",
        "        self.linear1 = nn.Linear(in_features=16, out_features=64)\n",
        "        self.linear2 = nn.Linear(in_features=64, out_features=32)\n",
        "        self.output = nn.Linear(in_features=32, out_features=1)\n",
        "        self.ratings = ratings\n",
        "        self.all_movies = all_movies\n",
        "    \n",
        "    def forward(self, user_input, item_input):\n",
        "        \n",
        "        # пропускаем через слои эмбеддинга\n",
        "        user_embedded = self.user_embedding(user_input)\n",
        "        item_embedded = self.item_embedding(item_input)\n",
        "\n",
        "        # склеивание двух слоев эмбеддинга\n",
        "        vector = torch.cat([user_embedded, item_embedded], dim=-1)\n",
        "\n",
        "        # пропускаем через полносвязные слои\n",
        "        vector = nn.ReLU()(self.linear1(vector))\n",
        "        vector = nn.ReLU()(self.linear2(vector))\n",
        "\n",
        "        # выходной слой - вероятность,\n",
        "        pred = nn.Sigmoid()(self.output(vector))\n",
        "\n",
        "        return pred\n",
        "    \n",
        "    # для бустинга\n",
        "    def last_layer(self, user_input, item_input):\n",
        "        user_embedded = self.user_embedding(user_input)\n",
        "        item_embedded = self.item_embedding(item_input)\n",
        "        vector = torch.cat([user_embedded, item_embedded], dim=-1)\n",
        "        vector = nn.ReLU()(self.linear1(vector))\n",
        "        vector = nn.ReLU()(self.linear2(vector))\n",
        "        return vector\n",
        "\n",
        "    def get_embeddings(self, user_input, item_input):\n",
        "        return  self.user_embedding(user_input), self.item_embedding(item_input)\n",
        "\n",
        "    def training_step(self, batch, batch_idx):\n",
        "        user_input, item_input, labels = batch\n",
        "        predicted_labels = self(user_input, item_input)\n",
        "        loss = nn.BCELoss()(predicted_labels, labels.view(-1, 1).float())\n",
        "        return loss\n",
        "\n",
        "    def configure_optimizers(self):\n",
        "        return torch.optim.Adam(self.parameters())\n",
        "\n",
        "    def train_dataloader(self):\n",
        "        return DataLoader(DataHolder(self.ratings, self.all_movies),\n",
        "                          batch_size=512, num_workers=4)"
      ]
    },
    {
      "cell_type": "code",
      "execution_count": 84,
      "metadata": {
        "id": "9U-omSxmzcp-"
      },
      "outputs": [],
      "source": [
        "# инициализация модели\n",
        "num_users  = ratings['userId'].max()+1\n",
        "num_movies = ratings['movieId'].max()+1\n",
        "all_movies = ratings['movieId'].unique()\n",
        "\n",
        "model = CollaborativeFiltering(num_users, num_movies, train_ratings, all_movies)"
      ]
    },
    {
      "cell_type": "markdown",
      "metadata": {
        "id": "bNAc28U-FtEi"
      },
      "source": [
        "Пришло время обучить модель!"
      ]
    },
    {
      "cell_type": "code",
      "execution_count": null,
      "metadata": {
        "id": "WULsIgGLzfXM"
      },
      "outputs": [],
      "source": [
        "trainer = pl.Trainer(\n",
        "    max_epochs=5,\n",
        "    accelerator='gpu',\n",
        "    reload_dataloaders_every_n_epochs=1, \n",
        "    # создаю новый случайно выбранный набор негативных выборок для каждой эпохи \n",
        "    logger=False,\n",
        ")\n",
        "\n",
        "trainer.fit(model)\n"
      ]
    },
    {
      "cell_type": "markdown",
      "metadata": {
        "id": "G5GVWguvBS_Q"
      },
      "source": [
        "# BOOSTING"
      ]
    },
    {
      "cell_type": "markdown",
      "metadata": {
        "id": "18URaPpR7qkn"
      },
      "source": [
        "попробуем выводить предпоследний слой предобученной модели в бустинг на деревьях для улучшения классификации:"
      ]
    },
    {
      "cell_type": "code",
      "execution_count": 153,
      "metadata": {
        "id": "h3KYydaBA382"
      },
      "outputs": [],
      "source": [
        "import lightgbm\n",
        "params = {\n",
        "    'boosting_type': 'gbdt', \n",
        "    'n_estimators': 1000, # 1000 деревьев\n",
        "    'learning_rate': 0.1,\n",
        "    'num_leaves': 3, # деревья из 3ех листьев\n",
        "    'reg_alpha': 10,\n",
        "    'reg_lambda': 100,\n",
        "    'subsample_freq': 0, \n",
        "    'subsample': 1, \n",
        "    'n_jobs': 4, \n",
        "    'random_state': 4242 \n",
        "}\n",
        "boosting = lightgbm.LGBMClassifier(**params)"
      ]
    },
    {
      "cell_type": "code",
      "execution_count": null,
      "metadata": {
        "id": "CKtr2t9xK0mu"
      },
      "outputs": [],
      "source": [
        "train_data = DataHolder(train_ratings, model.all_movies)\n",
        "test_data  = DataHolder(test_ratings, model.all_movies)\n",
        "X_train = model.last_layer(train_data.users, train_data.movies).detach().numpy()\n",
        "Y_train = train_data.labels.detach().numpy()\n",
        "X_val = model.last_layer(test_data.users, test_data.movies).detach().numpy()\n",
        "Y_val = test_data.labels.detach().numpy()"
      ]
    },
    {
      "cell_type": "code",
      "execution_count": 156,
      "metadata": {
        "colab": {
          "base_uri": "https://localhost:8080/",
          "height": 539
        },
        "id": "e8MiF9I9BSgn",
        "outputId": "0a7e237a-2675-4258-fba2-81d835264690"
      },
      "outputs": [
        {
          "name": "stdout",
          "output_type": "stream",
          "text": [
            "Training until validation scores don't improve for 200 rounds\n",
            "[50]\ttraining's auc: 0.935803\ttraining's binary_logloss: 0.278222\tvalid_1's auc: 0.921827\tvalid_1's binary_logloss: 0.305325\n",
            "[100]\ttraining's auc: 0.938208\ttraining's binary_logloss: 0.271124\tvalid_1's auc: 0.924477\tvalid_1's binary_logloss: 0.304674\n",
            "[150]\ttraining's auc: 0.939239\ttraining's binary_logloss: 0.268683\tvalid_1's auc: 0.925389\tvalid_1's binary_logloss: 0.303842\n",
            "[200]\ttraining's auc: 0.939792\ttraining's binary_logloss: 0.267407\tvalid_1's auc: 0.92568\tvalid_1's binary_logloss: 0.304229\n",
            "[250]\ttraining's auc: 0.94015\ttraining's binary_logloss: 0.266591\tvalid_1's auc: 0.92586\tvalid_1's binary_logloss: 0.304699\n",
            "[300]\ttraining's auc: 0.940398\ttraining's binary_logloss: 0.266032\tvalid_1's auc: 0.925962\tvalid_1's binary_logloss: 0.305202\n",
            "[350]\ttraining's auc: 0.940584\ttraining's binary_logloss: 0.265621\tvalid_1's auc: 0.92606\tvalid_1's binary_logloss: 0.305533\n",
            "[400]\ttraining's auc: 0.940725\ttraining's binary_logloss: 0.265304\tvalid_1's auc: 0.926155\tvalid_1's binary_logloss: 0.305776\n",
            "[450]\ttraining's auc: 0.940837\ttraining's binary_logloss: 0.265055\tvalid_1's auc: 0.926204\tvalid_1's binary_logloss: 0.306134\n",
            "[500]\ttraining's auc: 0.940928\ttraining's binary_logloss: 0.26485\tvalid_1's auc: 0.92624\tvalid_1's binary_logloss: 0.306381\n",
            "[550]\ttraining's auc: 0.940998\ttraining's binary_logloss: 0.264694\tvalid_1's auc: 0.926263\tvalid_1's binary_logloss: 0.306637\n",
            "[600]\ttraining's auc: 0.941058\ttraining's binary_logloss: 0.264558\tvalid_1's auc: 0.926318\tvalid_1's binary_logloss: 0.306795\n",
            "[650]\ttraining's auc: 0.941114\ttraining's binary_logloss: 0.264434\tvalid_1's auc: 0.92635\tvalid_1's binary_logloss: 0.306865\n",
            "[700]\ttraining's auc: 0.94116\ttraining's binary_logloss: 0.264334\tvalid_1's auc: 0.926367\tvalid_1's binary_logloss: 0.30702\n",
            "[750]\ttraining's auc: 0.941197\ttraining's binary_logloss: 0.26425\tvalid_1's auc: 0.926364\tvalid_1's binary_logloss: 0.307323\n",
            "[800]\ttraining's auc: 0.941234\ttraining's binary_logloss: 0.26417\tvalid_1's auc: 0.926396\tvalid_1's binary_logloss: 0.307263\n",
            "[850]\ttraining's auc: 0.941264\ttraining's binary_logloss: 0.264102\tvalid_1's auc: 0.926416\tvalid_1's binary_logloss: 0.30734\n",
            "[900]\ttraining's auc: 0.941295\ttraining's binary_logloss: 0.264033\tvalid_1's auc: 0.926428\tvalid_1's binary_logloss: 0.307447\n",
            "[950]\ttraining's auc: 0.94132\ttraining's binary_logloss: 0.263977\tvalid_1's auc: 0.92644\tvalid_1's binary_logloss: 0.307537\n",
            "[1000]\ttraining's auc: 0.941343\ttraining's binary_logloss: 0.263926\tvalid_1's auc: 0.926458\tvalid_1's binary_logloss: 0.30766\n",
            "Did not meet early stopping. Best iteration is:\n",
            "[1000]\ttraining's auc: 0.941343\ttraining's binary_logloss: 0.263926\tvalid_1's auc: 0.926458\tvalid_1's binary_logloss: 0.30766\n",
            "Evaluated only: auc\n"
          ]
        },
        {
          "data": {
            "text/html": [
              "<style>#sk-container-id-2 {color: black;background-color: white;}#sk-container-id-2 pre{padding: 0;}#sk-container-id-2 div.sk-toggleable {background-color: white;}#sk-container-id-2 label.sk-toggleable__label {cursor: pointer;display: block;width: 100%;margin-bottom: 0;padding: 0.3em;box-sizing: border-box;text-align: center;}#sk-container-id-2 label.sk-toggleable__label-arrow:before {content: \"▸\";float: left;margin-right: 0.25em;color: #696969;}#sk-container-id-2 label.sk-toggleable__label-arrow:hover:before {color: black;}#sk-container-id-2 div.sk-estimator:hover label.sk-toggleable__label-arrow:before {color: black;}#sk-container-id-2 div.sk-toggleable__content {max-height: 0;max-width: 0;overflow: hidden;text-align: left;background-color: #f0f8ff;}#sk-container-id-2 div.sk-toggleable__content pre {margin: 0.2em;color: black;border-radius: 0.25em;background-color: #f0f8ff;}#sk-container-id-2 input.sk-toggleable__control:checked~div.sk-toggleable__content {max-height: 200px;max-width: 100%;overflow: auto;}#sk-container-id-2 input.sk-toggleable__control:checked~label.sk-toggleable__label-arrow:before {content: \"▾\";}#sk-container-id-2 div.sk-estimator input.sk-toggleable__control:checked~label.sk-toggleable__label {background-color: #d4ebff;}#sk-container-id-2 div.sk-label input.sk-toggleable__control:checked~label.sk-toggleable__label {background-color: #d4ebff;}#sk-container-id-2 input.sk-hidden--visually {border: 0;clip: rect(1px 1px 1px 1px);clip: rect(1px, 1px, 1px, 1px);height: 1px;margin: -1px;overflow: hidden;padding: 0;position: absolute;width: 1px;}#sk-container-id-2 div.sk-estimator {font-family: monospace;background-color: #f0f8ff;border: 1px dotted black;border-radius: 0.25em;box-sizing: border-box;margin-bottom: 0.5em;}#sk-container-id-2 div.sk-estimator:hover {background-color: #d4ebff;}#sk-container-id-2 div.sk-parallel-item::after {content: \"\";width: 100%;border-bottom: 1px solid gray;flex-grow: 1;}#sk-container-id-2 div.sk-label:hover label.sk-toggleable__label {background-color: #d4ebff;}#sk-container-id-2 div.sk-serial::before {content: \"\";position: absolute;border-left: 1px solid gray;box-sizing: border-box;top: 0;bottom: 0;left: 50%;z-index: 0;}#sk-container-id-2 div.sk-serial {display: flex;flex-direction: column;align-items: center;background-color: white;padding-right: 0.2em;padding-left: 0.2em;position: relative;}#sk-container-id-2 div.sk-item {position: relative;z-index: 1;}#sk-container-id-2 div.sk-parallel {display: flex;align-items: stretch;justify-content: center;background-color: white;position: relative;}#sk-container-id-2 div.sk-item::before, #sk-container-id-2 div.sk-parallel-item::before {content: \"\";position: absolute;border-left: 1px solid gray;box-sizing: border-box;top: 0;bottom: 0;left: 50%;z-index: -1;}#sk-container-id-2 div.sk-parallel-item {display: flex;flex-direction: column;z-index: 1;position: relative;background-color: white;}#sk-container-id-2 div.sk-parallel-item:first-child::after {align-self: flex-end;width: 50%;}#sk-container-id-2 div.sk-parallel-item:last-child::after {align-self: flex-start;width: 50%;}#sk-container-id-2 div.sk-parallel-item:only-child::after {width: 0;}#sk-container-id-2 div.sk-dashed-wrapped {border: 1px dashed gray;margin: 0 0.4em 0.5em 0.4em;box-sizing: border-box;padding-bottom: 0.4em;background-color: white;}#sk-container-id-2 div.sk-label label {font-family: monospace;font-weight: bold;display: inline-block;line-height: 1.2em;}#sk-container-id-2 div.sk-label-container {text-align: center;}#sk-container-id-2 div.sk-container {/* jupyter's `normalize.less` sets `[hidden] { display: none; }` but bootstrap.min.css set `[hidden] { display: none !important; }` so we also need the `!important` here to be able to override the default hidden behavior on the sphinx rendered scikit-learn.org. See: https://github.com/scikit-learn/scikit-learn/issues/21755 */display: inline-block !important;position: relative;}#sk-container-id-2 div.sk-text-repr-fallback {display: none;}</style><div id=\"sk-container-id-2\" class=\"sk-top-container\"><div class=\"sk-text-repr-fallback\"><pre>LGBMClassifier(n_estimators=1000, n_jobs=4, num_leaves=3, random_state=4242,\n",
              "               reg_alpha=10, reg_lambda=100, subsample=1)</pre><b>In a Jupyter environment, please rerun this cell to show the HTML representation or trust the notebook. <br />On GitHub, the HTML representation is unable to render, please try loading this page with nbviewer.org.</b></div><div class=\"sk-container\" hidden><div class=\"sk-item\"><div class=\"sk-estimator sk-toggleable\"><input class=\"sk-toggleable__control sk-hidden--visually\" id=\"sk-estimator-id-2\" type=\"checkbox\" checked><label for=\"sk-estimator-id-2\" class=\"sk-toggleable__label sk-toggleable__label-arrow\">LGBMClassifier</label><div class=\"sk-toggleable__content\"><pre>LGBMClassifier(n_estimators=1000, n_jobs=4, num_leaves=3, random_state=4242,\n",
              "               reg_alpha=10, reg_lambda=100, subsample=1)</pre></div></div></div></div></div>"
            ],
            "text/plain": [
              "LGBMClassifier(n_estimators=1000, n_jobs=4, num_leaves=3, random_state=4242,\n",
              "               reg_alpha=10, reg_lambda=100, subsample=1)"
            ]
          },
          "execution_count": 156,
          "metadata": {},
          "output_type": "execute_result"
        }
      ],
      "source": [
        "boosting.fit(\n",
        "    X=X_train,\n",
        "    y=y_train,\n",
        "    eval_set=[(X_train, y_train), (X_val, y_val)],\n",
        "    eval_metric='auc', \n",
        "    callbacks=[lightgbm.early_stopping(stopping_rounds=200, first_metric_only=True),\n",
        "               lightgbm.log_evaluation(50)]\n",
        ")"
      ]
    },
    {
      "cell_type": "code",
      "execution_count": 157,
      "metadata": {
        "id": "jksF5e-nPhxb"
      },
      "outputs": [],
      "source": [
        "# композиция предпоследнего слоя нн и lgbm:\n",
        "def pipe_predict(user_input, item_input):\n",
        "  return boosting.predict_proba(model.last_layer(user_input, item_input).detach().numpy().reshape(-1,32))[:,1]"
      ]
    },
    {
      "cell_type": "code",
      "execution_count": 158,
      "metadata": {
        "id": "IIbxKMhDh_-n"
      },
      "outputs": [],
      "source": [
        "# пары пользователь-фильм для теста\n",
        "test_user_movie_set = set(zip(test_ratings['userId'], test_ratings['movieId']))\n",
        "\n",
        "# все фильмы, с которыми взаимодействовали пользователи\n",
        "user_interacted_movies = ratings.groupby('userId')['movieId'].apply(list).to_dict()\n"
      ]
    },
    {
      "cell_type": "code",
      "execution_count": 172,
      "metadata": {
        "id": "qWulPpFyzmgQ"
      },
      "outputs": [],
      "source": [
        "# так как в метрике используется случайный выбор 100 фильмов для HR@10,\n",
        "# используем monte-carlo для хоть немного статистически-значимого результата\n",
        "def hit_ratio(ismodel=True):\n",
        "  hits = []\n",
        "  for (u,i) in tqdm(test_user_movie_set):\n",
        "    interacted_movies = user_interacted_movies[u]\n",
        "    not_interacted_movies = set(all_movies) - set(interacted_movies)\n",
        "    selected_not_interacted = list(np.random.choice(list(not_interacted_movies), 99))\n",
        "    test_movies = selected_not_interacted + [i]\n",
        "    \n",
        "    if ismodel:\n",
        "      predicted_labels = np.squeeze(model(torch.tensor([u]*100), \n",
        "                                        torch.tensor(test_movies)).detach().numpy())\n",
        "    else:\n",
        "      predicted_labels = np.squeeze(pipe_predict(torch.tensor([u]*100), \n",
        "                                        torch.tensor(test_movies)))\n",
        "    \n",
        "    top10_movies = [test_movies[i] for i in np.argsort(predicted_labels)[::-1][0:10].tolist()]\n",
        "    \n",
        "    if i in top10_movies:\n",
        "      hits.append(1)\n",
        "    else:\n",
        "      hits.append(0)\n",
        "  return np.average(hits)"
      ]
    },
    {
      "cell_type": "code",
      "execution_count": null,
      "metadata": {
        "id": "1fT_-OtCpBKF"
      },
      "outputs": [],
      "source": [
        "# monte - carlo simulations\n",
        "MC = 30\n",
        "hr_model=[]\n",
        "hr_boost=[]\n",
        "for i in tqdm(range(MC)):\n",
        "  hr_model.append(hit_ratio(ismodel=True))\n",
        "  hr_boost.append(hit_ratio(ismodel=False))"
      ]
    },
    {
      "cell_type": "code",
      "execution_count": 193,
      "metadata": {
        "colab": {
          "base_uri": "https://localhost:8080/"
        },
        "id": "YivnsH3h83ij",
        "outputId": "f3d4f5ed-fab8-4a8c-ffc1-b26e6f7287f9"
      },
      "outputs": [
        {
          "name": "stdout",
          "output_type": "stream",
          "text": [
            "init model mean HR = 0.7801190476190475, boost model mean HR = 0.7781523809523809\n",
            "init std = 0.0021444702922789748,\t boost std = 0.0021160010201935883\n"
          ]
        }
      ],
      "source": [
        "print(f'init model mean HR = {sum(hr_model)/MC}, boost model mean HR = {sum(hr_boost)/MC}')\n",
        "print(f'init std = {np.std(hr_model)},\\t boost std = {np.std(hr_boost)}')"
      ]
    },
    {
      "cell_type": "markdown",
      "metadata": {
        "id": "9afhOsTpzScc"
      },
      "source": [
        "$\\Rightarrow$ бустинг не дал ощутимого улучшения модели "
      ]
    }
  ],
  "metadata": {
    "accelerator": "GPU",
    "colab": {
      "collapsed_sections": [
        "cS2fVPev0M8G",
        "aj0UFLvEyvDa"
      ],
      "gpuType": "T4",
      "provenance": []
    },
    "gpuClass": "standard",
    "kernelspec": {
      "display_name": "Python 3",
      "name": "python3"
    },
    "language_info": {
      "name": "python"
    }
  },
  "nbformat": 4,
  "nbformat_minor": 0
}
