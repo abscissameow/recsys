{
 "cells": [
  {
   "cell_type": "code",
   "execution_count": 1,
   "metadata": {},
   "outputs": [],
   "source": [
    "import numpy as np\n",
    "import pandas as pd\n",
    "import requests\n",
    "from bs4 import BeautifulSoup\n",
    "from tqdm import tqdm\n",
    "import re\n",
    "import urllib"
   ]
  },
  {
   "cell_type": "code",
   "execution_count": 4,
   "metadata": {},
   "outputs": [],
   "source": [
    "links = pd.read_csv('links.csv')\n",
    "movies = pd.read_csv('movies.csv')"
   ]
  },
  {
   "cell_type": "code",
   "execution_count": 5,
   "metadata": {},
   "outputs": [],
   "source": [
    "def search_info(string):\n",
    "    try:\n",
    "        # Поиск названия фильма и режиссера\n",
    "        film_info = re.search(r'(?<=Directed by )(.+?)(?=\\.)', string)\n",
    "        if film_info:\n",
    "            director = film_info.group(1).strip()\n",
    "\n",
    "        # Поиск главных актеров и описания фильма\n",
    "        actors = re.findall(r\"With (.*?\\.)\", string)[0]\n",
    "\n",
    "        description = re.findall(rf\"{actors}(.*)\", string, flags=re.DOTALL)[0].strip()\n",
    "\n",
    "        return(director,actors[:-1],description)\n",
    "    except:\n",
    "        return(np.NaN,np.NaN,np.NaN)\n"
   ]
  },
  {
   "cell_type": "code",
   "execution_count": 6,
   "metadata": {},
   "outputs": [],
   "source": [
    "def get_movie_description(id):\n",
    "    # url в зависимости от длины id\n",
    "    try:\n",
    "        if id > 999999:\n",
    "            url = f'https://www.imdb.com/title/tt{id}/'\n",
    "        elif 99999<id<1000000:\n",
    "            url = f'https://www.imdb.com/title/tt0{id}/'\n",
    "        elif 9999<id<100000:\n",
    "            url = f'https://www.imdb.com/title/tt00{id}/'\n",
    "        \n",
    "        hdr = {'User-Agent': 'Chrome/19.0'}\n",
    "\n",
    "        req = urllib.request.Request(url, headers=hdr)\n",
    "        page = urllib.request.urlopen(req, timeout=60)\n",
    "\n",
    "        # сознаю объект BeautifulSoup для парсинга страницы\n",
    "        soup = BeautifulSoup(page, 'html.parser')\n",
    "\n",
    "        # поиск тега <meta>\n",
    "        meta_tag = soup.find(\"meta\", {\"name\": \"description\"})\n",
    "\n",
    "        # если тег найден, возвращаем его содержимое\n",
    "        if meta_tag:\n",
    "            return meta_tag['content']\n",
    "        return ''\n",
    "    except:\n",
    "        return ''"
   ]
  },
  {
   "cell_type": "code",
   "execution_count": 12,
   "metadata": {},
   "outputs": [
    {
     "name": "stderr",
     "output_type": "stream",
     "text": [
      "41it [01:47,  2.62s/it]\n"
     ]
    }
   ],
   "source": [
    "# заполним таблицу info\n",
    "info = links.copy()\n",
    "for n,id in tqdm(enumerate(links['imdbId'])):\n",
    "    full_string = get_movie_description(id)  \n",
    "    full_info = search_info(full_string)\n",
    "\n",
    "    info.loc[info['imdbId'] == id, 'director'] =full_info[0]\n",
    "    info.loc[info['imdbId'] == id, 'actors'] = full_info[1]\n",
    "    info.loc[info['imdbId'] == id, 'description'] = full_info[2]\n",
    "    info.to_csv('info.csv')\n"
   ]
  },
  {
   "cell_type": "code",
   "execution_count": 18,
   "metadata": {},
   "outputs": [],
   "source": [
    "info = pd.read_csv('info.csv')"
   ]
  },
  {
   "cell_type": "code",
   "execution_count": 30,
   "metadata": {},
   "outputs": [],
   "source": [
    "# поправлю те имена актёров, что плохо считались (инициалы, Jr.)\n",
    "for i, row in info.iterrows():\n",
    "    if row['actors']==row['actors'] and (len(row['actors']) == 1 or (row['actors'][-2] == ' ' and len(row['actors']) > 1) or (row['actors'][-2:] == 'Jr')):\n",
    "        desc = row['description'].split('.')[0].strip()\n",
    "        info.at[i, 'actors'] += '. ' + desc\n",
    "        info.at[i, 'description'] = row['description'][len(desc)+1:].strip()"
   ]
  },
  {
   "cell_type": "code",
   "execution_count": 34,
   "metadata": {},
   "outputs": [],
   "source": [
    "# если плохо считался директор\n",
    "for i, row in info.iterrows():\n",
    "    if row['director'] == row['director'] and (\n",
    "        len(row['director']) == 1 or (row['director'][-2] == ' ' and len(row['director']) > 1) or (row['director'][-2:] == 'Jr')\n",
    "    ):\n",
    "        movie_description = get_movie_description(row['imdbId'])\n",
    "        \n",
    "        start = movie_description.find('Directed by') + len('Directed by')\n",
    "        end = movie_description.find('With', start)\n",
    "        director_name = movie_description[start:end].strip()\n",
    "        \n",
    "        info.at[i, 'director'] = director_name"
   ]
  },
  {
   "cell_type": "code",
   "execution_count": 36,
   "metadata": {},
   "outputs": [],
   "source": [
    "for i, row in info.iterrows():\n",
    "    if row['director'] == row['director'] and (len(row['director']) > 1) and (row['director'][-1] == '.'):\n",
    "        info.at[i, 'director'] = row['director'][:-1]"
   ]
  },
  {
   "cell_type": "code",
   "execution_count": null,
   "metadata": {},
   "outputs": [],
   "source": [
    "info['genres'] = movies['genres'].str.replace('|', ', ')"
   ]
  },
  {
   "cell_type": "code",
   "execution_count": 38,
   "metadata": {},
   "outputs": [],
   "source": [
    "info = info.drop(['Unnamed: 0.4', 'Unnamed: 0.3', 'Unnamed: 0.2', 'Unnamed: 0.1','Unnamed: 0'], axis=1)\n",
    "\n",
    "info.to_csv('info.csv')"
   ]
  },
  {
   "cell_type": "code",
   "execution_count": 10,
   "metadata": {},
   "outputs": [],
   "source": [
    "info.to_csv('info.csv')"
   ]
  }
 ],
 "metadata": {
  "kernelspec": {
   "display_name": "Python 3",
   "language": "python",
   "name": "python3"
  },
  "language_info": {
   "codemirror_mode": {
    "name": "ipython",
    "version": 3
   },
   "file_extension": ".py",
   "mimetype": "text/x-python",
   "name": "python",
   "nbconvert_exporter": "python",
   "pygments_lexer": "ipython3",
   "version": "3.10.5"
  },
  "orig_nbformat": 4
 },
 "nbformat": 4,
 "nbformat_minor": 2
}
